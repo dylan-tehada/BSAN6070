{
 "cells": [
  {
   "cell_type": "markdown",
   "id": "8249ca6a",
   "metadata": {},
   "source": [
    "# Import Packages"
   ]
  },
  {
   "cell_type": "code",
   "execution_count": null,
   "id": "f211228c",
   "metadata": {},
   "outputs": [],
   "source": [
    "import pandas as pd\n",
    "from sklearn.neighbors import NearestNeighbors"
   ]
  },
  {
   "cell_type": "markdown",
   "id": "88523af6",
   "metadata": {},
   "source": [
    "# Importing Movie Data"
   ]
  },
  {
   "cell_type": "code",
   "execution_count": 2,
   "id": "edf1e317",
   "metadata": {},
   "outputs": [],
   "source": [
    "#Importing movie data from csv file\n",
    "df=pd.read_csv('https://github.com/ArinB/MSBA-CA-Data/raw/main/CA05/movies_recommendation_data.csv')"
   ]
  },
  {
   "cell_type": "code",
   "execution_count": 18,
   "id": "2acec58e",
   "metadata": {},
   "outputs": [
    {
     "data": {
      "text/html": [
       "<div>\n",
       "<style scoped>\n",
       "    .dataframe tbody tr th:only-of-type {\n",
       "        vertical-align: middle;\n",
       "    }\n",
       "\n",
       "    .dataframe tbody tr th {\n",
       "        vertical-align: top;\n",
       "    }\n",
       "\n",
       "    .dataframe thead th {\n",
       "        text-align: right;\n",
       "    }\n",
       "</style>\n",
       "<table border=\"1\" class=\"dataframe\">\n",
       "  <thead>\n",
       "    <tr style=\"text-align: right;\">\n",
       "      <th></th>\n",
       "      <th>Movie ID</th>\n",
       "      <th>Movie Name</th>\n",
       "      <th>IMDB Rating</th>\n",
       "      <th>Biography</th>\n",
       "      <th>Drama</th>\n",
       "      <th>Thriller</th>\n",
       "      <th>Comedy</th>\n",
       "      <th>Crime</th>\n",
       "      <th>Mystery</th>\n",
       "      <th>History</th>\n",
       "      <th>Label</th>\n",
       "    </tr>\n",
       "  </thead>\n",
       "  <tbody>\n",
       "    <tr>\n",
       "      <th>0</th>\n",
       "      <td>58</td>\n",
       "      <td>The Imitation Game</td>\n",
       "      <td>8.0</td>\n",
       "      <td>1</td>\n",
       "      <td>1</td>\n",
       "      <td>1</td>\n",
       "      <td>0</td>\n",
       "      <td>0</td>\n",
       "      <td>0</td>\n",
       "      <td>0</td>\n",
       "      <td>0</td>\n",
       "    </tr>\n",
       "    <tr>\n",
       "      <th>1</th>\n",
       "      <td>8</td>\n",
       "      <td>Ex Machina</td>\n",
       "      <td>7.7</td>\n",
       "      <td>0</td>\n",
       "      <td>1</td>\n",
       "      <td>0</td>\n",
       "      <td>0</td>\n",
       "      <td>0</td>\n",
       "      <td>1</td>\n",
       "      <td>0</td>\n",
       "      <td>0</td>\n",
       "    </tr>\n",
       "    <tr>\n",
       "      <th>2</th>\n",
       "      <td>46</td>\n",
       "      <td>A Beautiful Mind</td>\n",
       "      <td>8.2</td>\n",
       "      <td>1</td>\n",
       "      <td>1</td>\n",
       "      <td>0</td>\n",
       "      <td>0</td>\n",
       "      <td>0</td>\n",
       "      <td>0</td>\n",
       "      <td>0</td>\n",
       "      <td>0</td>\n",
       "    </tr>\n",
       "    <tr>\n",
       "      <th>3</th>\n",
       "      <td>62</td>\n",
       "      <td>Good Will Hunting</td>\n",
       "      <td>8.3</td>\n",
       "      <td>0</td>\n",
       "      <td>1</td>\n",
       "      <td>0</td>\n",
       "      <td>0</td>\n",
       "      <td>0</td>\n",
       "      <td>0</td>\n",
       "      <td>0</td>\n",
       "      <td>0</td>\n",
       "    </tr>\n",
       "    <tr>\n",
       "      <th>4</th>\n",
       "      <td>97</td>\n",
       "      <td>Forrest Gump</td>\n",
       "      <td>8.8</td>\n",
       "      <td>0</td>\n",
       "      <td>1</td>\n",
       "      <td>0</td>\n",
       "      <td>0</td>\n",
       "      <td>0</td>\n",
       "      <td>0</td>\n",
       "      <td>0</td>\n",
       "      <td>0</td>\n",
       "    </tr>\n",
       "  </tbody>\n",
       "</table>\n",
       "</div>"
      ],
      "text/plain": [
       "   Movie ID          Movie Name  IMDB Rating  Biography  Drama  Thriller  \\\n",
       "0        58  The Imitation Game          8.0          1      1         1   \n",
       "1         8          Ex Machina          7.7          0      1         0   \n",
       "2        46    A Beautiful Mind          8.2          1      1         0   \n",
       "3        62   Good Will Hunting          8.3          0      1         0   \n",
       "4        97        Forrest Gump          8.8          0      1         0   \n",
       "\n",
       "   Comedy  Crime  Mystery  History  Label  \n",
       "0       0      0        0        0      0  \n",
       "1       0      0        1        0      0  \n",
       "2       0      0        0        0      0  \n",
       "3       0      0        0        0      0  \n",
       "4       0      0        0        0      0  "
      ]
     },
     "execution_count": 18,
     "metadata": {},
     "output_type": "execute_result"
    }
   ],
   "source": [
    "#Inspecting movie data\n",
    "df.head()"
   ]
  },
  {
   "cell_type": "code",
   "execution_count": 22,
   "id": "e0fe4888",
   "metadata": {},
   "outputs": [
    {
     "name": "stdout",
     "output_type": "stream",
     "text": [
      "<class 'pandas.core.frame.DataFrame'>\n",
      "RangeIndex: 30 entries, 0 to 29\n",
      "Data columns (total 11 columns):\n",
      " #   Column       Non-Null Count  Dtype  \n",
      "---  ------       --------------  -----  \n",
      " 0   Movie ID     30 non-null     int64  \n",
      " 1   Movie Name   30 non-null     object \n",
      " 2   IMDB Rating  30 non-null     float64\n",
      " 3   Biography    30 non-null     int64  \n",
      " 4   Drama        30 non-null     int64  \n",
      " 5   Thriller     30 non-null     int64  \n",
      " 6   Comedy       30 non-null     int64  \n",
      " 7   Crime        30 non-null     int64  \n",
      " 8   Mystery      30 non-null     int64  \n",
      " 9   History      30 non-null     int64  \n",
      " 10  Label        30 non-null     int64  \n",
      "dtypes: float64(1), int64(9), object(1)\n",
      "memory usage: 2.7+ KB\n"
     ]
    }
   ],
   "source": [
    "#Seeing columns of movie data\n",
    "df.info()"
   ]
  },
  {
   "cell_type": "markdown",
   "id": "a728ea6b",
   "metadata": {},
   "source": [
    "# Building Recommender System using kNN"
   ]
  },
  {
   "cell_type": "code",
   "execution_count": 26,
   "id": "4bf45de5",
   "metadata": {},
   "outputs": [
    {
     "name": "stdout",
     "output_type": "stream",
     "text": [
      "Enter movie details:\n",
      "Enter Name of Movie: The Post\n",
      "IMDB Rating (integer): 7.2\n",
      "Does the movie belong to Biography? (1 for Yes, 0 for No): 1\n",
      "Does the movie belong to Drama? (1 for Yes, 0 for No): 1\n",
      "Does the movie belong to Thriller? (1 for Yes, 0 for No): 0\n",
      "Does the movie belong to Comedy? (1 for Yes, 0 for No): 0\n",
      "Does the movie belong to Crime? (1 for Yes, 0 for No): 0\n",
      "Does the movie belong to Mystery? (1 for Yes, 0 for No): 0\n",
      "Does the movie belong to History? (1 for Yes, 0 for No): 1\n",
      "Recommended movies similar to The Post with distances:\n",
      "12 Years a Slave: 0.90\n",
      "Hacksaw Ridge: 1.00\n",
      "Queen of Katwe: 1.02\n",
      "The Wind Rises: 1.17\n",
      "A Beautiful Mind: 1.41\n"
     ]
    },
    {
     "name": "stderr",
     "output_type": "stream",
     "text": [
      "/Users/dftehada/anaconda3/lib/python3.11/site-packages/sklearn/base.py:464: UserWarning: X does not have valid feature names, but NearestNeighbors was fitted with feature names\n",
      "  warnings.warn(\n"
     ]
    }
   ],
   "source": [
    "imdb_column = df.columns[2]  # Slicing for the IMDB rating in the dataset\n",
    "genre_columns = df.columns[3:10]  # Slicing for the genre columns\n",
    "\n",
    "# Include IMDB rating in feature set\n",
    "features = df[[imdb_column] + list(genre_columns)] #establishing the features used in the kNN algorithm\n",
    "knn = NearestNeighbors(n_neighbors=5, metric='euclidean') #Establishing the 5 nearest neighbors to the inputed movie\n",
    "knn.fit(df[[imdb_column] + list(genre_columns)]) #Initializing the model based on the features\n",
    "\n",
    "# Developing user input section for feature vector\n",
    "print(\"Enter movie details:\")\n",
    "movie_title = str(input(\"Enter Name of Movie: \")) #Input movie title\n",
    "imdb_rating = float(input(\"IMDB Rating (integer): \")) #Input IMDB rating\n",
    "genre_inputs = []\n",
    "for genre in genre_columns: #For loop to develop an input for each genre column\n",
    "    value = int(input(f\"Does the movie belong to {genre}? (1 for Yes, 0 for No): \"))\n",
    "    genre_inputs.append(value)\n",
    "\n",
    "user_movie = [imdb_rating] + genre_inputs\n",
    "\n",
    "distances, indices = knn.kneighbors([user_movie]) #Finding nearest neighbors for inputed movie\n",
    "recommended_movies = df.iloc[indices[0], 1]  # Displaying recommended movie titles\n",
    "\n",
    "#Printing results back to user\n",
    "print(f\"Recommended movies similar to {movie_title} with distances:\")\n",
    "for movie, distance in zip(recommended_movies, distances[0]):\n",
    "    print(f\"{movie}: {distance:.2f}\")"
   ]
  }
 ],
 "metadata": {
  "kernelspec": {
   "display_name": "Python 3 (ipykernel)",
   "language": "python",
   "name": "python3"
  },
  "language_info": {
   "codemirror_mode": {
    "name": "ipython",
    "version": 3
   },
   "file_extension": ".py",
   "mimetype": "text/x-python",
   "name": "python",
   "nbconvert_exporter": "python",
   "pygments_lexer": "ipython3",
   "version": "3.11.5"
  }
 },
 "nbformat": 4,
 "nbformat_minor": 5
}
